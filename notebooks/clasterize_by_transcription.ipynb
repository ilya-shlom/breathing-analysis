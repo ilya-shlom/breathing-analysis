{
 "cells": [
  {
   "cell_type": "code",
   "execution_count": 1,
   "metadata": {},
   "outputs": [],
   "source": [
    "import pandas as pd\n",
    "from matplotlib import pyplot as plt\n",
    "import numpy as np\n",
    "import librosa\n",
    "import glob\n",
    "from itertools import chain\n"
   ]
  },
  {
   "cell_type": "markdown",
   "metadata": {},
   "source": [
    "Initial files"
   ]
  },
  {
   "cell_type": "code",
   "execution_count": 2,
   "metadata": {},
   "outputs": [
    {
     "data": {
      "text/plain": [
       "['../web_recordings/Dyspnea/audio/Dyspnea_exhale_3.wav',\n",
       " '../web_recordings/Dyspnea/audio/Dyspnea_exhale_2.wav',\n",
       " '../web_recordings/Dyspnea/audio/Dyspnea_exhale_1.wav',\n",
       " '../web_recordings/Dyspnea/audio/Dyspnea_exhale_5.wav',\n",
       " '../web_recordings/Dyspnea/audio/Dyspnea_exhale_4.wav',\n",
       " '../web_recordings/Dyspnea/audio/Dyspnea_exhale_6.wav',\n",
       " '../web_recordings/Dyspnea/audio/Dyspnea_exhale_7.wav',\n",
       " '../web_recordings/Dyspnea/audio/Dyspnea_inhale_6.wav',\n",
       " '../web_recordings/Dyspnea/audio/Dyspnea_inhale_7.wav',\n",
       " '../web_recordings/Dyspnea/audio/Dyspnea_inhale_5.wav',\n",
       " '../web_recordings/Dyspnea/audio/Dyspnea_inhale_4.wav',\n",
       " '../web_recordings/Dyspnea/audio/Dyspnea_inhale_1.wav',\n",
       " '../web_recordings/Dyspnea/audio/Dyspnea_inhale_3.wav',\n",
       " '../web_recordings/Dyspnea/audio/Dyspnea_inhale_2.wav',\n",
       " '../web_recordings/Dyspnea/audio/Dyspnea_inhale_9.wav',\n",
       " '../web_recordings/Dyspnea/audio/Dyspnea_inhale_8.wav',\n",
       " '../web_recordings/Dyspnea/audio/Dyspnea_exhale_9.wav',\n",
       " '../web_recordings/Dyspnea/audio/Dyspnea_exhale_8.wav',\n",
       " '../web_recordings/Dyspnea/audio/Dyspnea_inhale_10.wav',\n",
       " '../web_recordings/Dyspnea/audio/Dyspnea_exhale_10.wav',\n",
       " '../web_recordings/Running/audio/Running_inhale_8.wav',\n",
       " '../web_recordings/Running/audio/Running_inhale_9.wav',\n",
       " '../web_recordings/Running/audio/Running_exhale_8.wav',\n",
       " '../web_recordings/Running/audio/Running_exhale_9.wav',\n",
       " '../web_recordings/Running/audio/Running_exhale_4.wav',\n",
       " '../web_recordings/Running/audio/Running_exhale_5.wav',\n",
       " '../web_recordings/Running/audio/Running_exhale_7.wav',\n",
       " '../web_recordings/Running/audio/Running_exhale_6.wav',\n",
       " '../web_recordings/Running/audio/Running_exhale_2.wav',\n",
       " '../web_recordings/Running/audio/Running_exhale_3.wav',\n",
       " '../web_recordings/Running/audio/Running_exhale_10.wav',\n",
       " '../web_recordings/Running/audio/Running_exhale_1.wav',\n",
       " '../web_recordings/Running/audio/Running_inhale_10.wav',\n",
       " '../web_recordings/Running/audio/Running_inhale_1.wav',\n",
       " '../web_recordings/Running/audio/Running_inhale_2.wav',\n",
       " '../web_recordings/Running/audio/Running_inhale_3.wav',\n",
       " '../web_recordings/Running/audio/Running_inhale_7.wav',\n",
       " '../web_recordings/Running/audio/Running_inhale_6.wav',\n",
       " '../web_recordings/Running/audio/Running_inhale_4.wav',\n",
       " '../web_recordings/Running/audio/Running_inhale_5.wav',\n",
       " '../web_recordings/Sitting/audio/Sitting_inhale_2.wav',\n",
       " '../web_recordings/Sitting/audio/Sitting_inhale_3.wav',\n",
       " '../web_recordings/Sitting/audio/Sitting_inhale_1.wav',\n",
       " '../web_recordings/Sitting/audio/Sitting_inhale_4.wav',\n",
       " '../web_recordings/Sitting/audio/Sitting_inhale_5.wav',\n",
       " '../web_recordings/Sitting/audio/Sitting_inhale_7.wav',\n",
       " '../web_recordings/Sitting/audio/Sitting_inhale_6.wav',\n",
       " '../web_recordings/Sitting/audio/Sitting_exhale_7.wav',\n",
       " '../web_recordings/Sitting/audio/Sitting_exhale_6.wav',\n",
       " '../web_recordings/Sitting/audio/Sitting_exhale_4.wav',\n",
       " '../web_recordings/Sitting/audio/Sitting_exhale_5.wav',\n",
       " '../web_recordings/Sitting/audio/Sitting_exhale_1.wav',\n",
       " '../web_recordings/Sitting/audio/Sitting_exhale_2.wav',\n",
       " '../web_recordings/Sitting/audio/Sitting_exhale_3.wav',\n",
       " '../web_recordings/Sitting/audio/Sitting_exhale_10.wav',\n",
       " '../web_recordings/Sitting/audio/Sitting_inhale_10.wav',\n",
       " '../web_recordings/Sitting/audio/Sitting_exhale_8.wav',\n",
       " '../web_recordings/Sitting/audio/Sitting_exhale_9.wav',\n",
       " '../web_recordings/Sitting/audio/Sitting_inhale_8.wav',\n",
       " '../web_recordings/Sitting/audio/Sitting_inhale_9.wav',\n",
       " '../web_recordings/Squats/audio/Squats_inhale_8.wav',\n",
       " '../web_recordings/Squats/audio/Squats_inhale_9.wav',\n",
       " '../web_recordings/Squats/audio/Squats_inhale_10.wav',\n",
       " '../web_recordings/Squats/audio/Squats_exhale_10.wav',\n",
       " '../web_recordings/Squats/audio/Squats_exhale_8.wav',\n",
       " '../web_recordings/Squats/audio/Squats_exhale_9.wav',\n",
       " '../web_recordings/Squats/audio/Squats_exhale_7.wav',\n",
       " '../web_recordings/Squats/audio/Squats_exhale_6.wav',\n",
       " '../web_recordings/Squats/audio/Squats_exhale_4.wav',\n",
       " '../web_recordings/Squats/audio/Squats_exhale_5.wav',\n",
       " '../web_recordings/Squats/audio/Squats_exhale_1.wav',\n",
       " '../web_recordings/Squats/audio/Squats_exhale_2.wav',\n",
       " '../web_recordings/Squats/audio/Squats_exhale_3.wav',\n",
       " '../web_recordings/Squats/audio/Squats_inhale_2.wav',\n",
       " '../web_recordings/Squats/audio/Squats_inhale_3.wav',\n",
       " '../web_recordings/Squats/audio/Squats_inhale_1.wav',\n",
       " '../web_recordings/Squats/audio/Squats_inhale_4.wav',\n",
       " '../web_recordings/Squats/audio/Squats_inhale_5.wav',\n",
       " '../web_recordings/Squats/audio/Squats_inhale_7.wav',\n",
       " '../web_recordings/Squats/audio/Squats_inhale_6.wav',\n",
       " '../web_recordings/Standing/audio/Standing_exhale_10.wav',\n",
       " '../web_recordings/Standing/audio/Standing_inhale_7.wav',\n",
       " '../web_recordings/Standing/audio/Standing_inhale_10.wav',\n",
       " '../web_recordings/Standing/audio/Standing_inhale_6.wav',\n",
       " '../web_recordings/Standing/audio/Standing_inhale_4.wav',\n",
       " '../web_recordings/Standing/audio/Standing_inhale_5.wav',\n",
       " '../web_recordings/Standing/audio/Standing_inhale_1.wav',\n",
       " '../web_recordings/Standing/audio/Standing_inhale_2.wav',\n",
       " '../web_recordings/Standing/audio/Standing_inhale_3.wav',\n",
       " '../web_recordings/Standing/audio/Standing_exhale_2.wav',\n",
       " '../web_recordings/Standing/audio/Standing_exhale_3.wav',\n",
       " '../web_recordings/Standing/audio/Standing_exhale_1.wav',\n",
       " '../web_recordings/Standing/audio/Standing_exhale_4.wav',\n",
       " '../web_recordings/Standing/audio/Standing_exhale_5.wav',\n",
       " '../web_recordings/Standing/audio/Standing_exhale_7.wav',\n",
       " '../web_recordings/Standing/audio/Standing_exhale_6.wav',\n",
       " '../web_recordings/Standing/audio/Standing_exhale_8.wav',\n",
       " '../web_recordings/Standing/audio/Standing_exhale_9.wav',\n",
       " '../web_recordings/Standing/audio/Standing_inhale_8.wav',\n",
       " '../web_recordings/Standing/audio/Standing_inhale_9.wav',\n",
       " '../web_recordings/Walking/audio/Walking_exhale_1.wav',\n",
       " '../web_recordings/Walking/audio/Walking_exhale_3.wav',\n",
       " '../web_recordings/Walking/audio/Walking_exhale_2.wav',\n",
       " '../web_recordings/Walking/audio/Walking_exhale_6.wav',\n",
       " '../web_recordings/Walking/audio/Walking_exhale_7.wav',\n",
       " '../web_recordings/Walking/audio/Walking_exhale_5.wav',\n",
       " '../web_recordings/Walking/audio/Walking_exhale_4.wav',\n",
       " '../web_recordings/Walking/audio/Walking_inhale_5.wav',\n",
       " '../web_recordings/Walking/audio/Walking_inhale_4.wav',\n",
       " '../web_recordings/Walking/audio/Walking_inhale_6.wav',\n",
       " '../web_recordings/Walking/audio/Walking_inhale_7.wav',\n",
       " '../web_recordings/Walking/audio/Walking_inhale_3.wav',\n",
       " '../web_recordings/Walking/audio/Walking_inhale_2.wav',\n",
       " '../web_recordings/Walking/audio/Walking_inhale_1.wav',\n",
       " '../web_recordings/Walking/audio/Walking_inhale_10.wav',\n",
       " '../web_recordings/Walking/audio/Walking_exhale_10.wav',\n",
       " '../web_recordings/Walking/audio/Walking_inhale_9.wav',\n",
       " '../web_recordings/Walking/audio/Walking_inhale_8.wav',\n",
       " '../web_recordings/Walking/audio/Walking_exhale_9.wav',\n",
       " '../web_recordings/Walking/audio/Walking_exhale_8.wav']"
      ]
     },
     "execution_count": 2,
     "metadata": {},
     "output_type": "execute_result"
    }
   ],
   "source": [
    "activities = ['Dyspnea', 'Running', 'Sitting', 'Squats', 'Standing', 'Walking']\n",
    "wavs = {}\n",
    "for activity in activities:\n",
    "    wavs[activity] = glob.glob(f'../web_recordings/{activity}/audio/*.wav')\n",
    "\n",
    "wavs_list = list(chain(*wavs.values()))\n",
    "wavs_list"
   ]
  },
  {
   "cell_type": "code",
   "execution_count": 9,
   "metadata": {},
   "outputs": [
    {
     "data": {
      "application/vnd.microsoft.datawrangler.viewer.v0+json": {
       "columns": [
        {
         "name": "index",
         "rawType": "int64",
         "type": "integer"
        },
        {
         "name": "file_name",
         "rawType": "object",
         "type": "string"
        },
        {
         "name": "breath_part",
         "rawType": "object",
         "type": "string"
        }
       ],
       "conversionMethod": "pd.DataFrame",
       "ref": "e250b6d7-57d0-45d2-bc26-4fb2ac1bff67",
       "rows": [
        [
         "0",
         "../web_recordings/Dyspnea/audio/Dyspnea_exhale_3.wav",
         "exhale"
        ],
        [
         "1",
         "../web_recordings/Dyspnea/audio/Dyspnea_exhale_2.wav",
         "exhale"
        ],
        [
         "2",
         "../web_recordings/Dyspnea/audio/Dyspnea_exhale_1.wav",
         "exhale"
        ],
        [
         "3",
         "../web_recordings/Dyspnea/audio/Dyspnea_exhale_5.wav",
         "exhale"
        ],
        [
         "4",
         "../web_recordings/Dyspnea/audio/Dyspnea_exhale_4.wav",
         "exhale"
        ],
        [
         "5",
         "../web_recordings/Dyspnea/audio/Dyspnea_exhale_6.wav",
         "exhale"
        ],
        [
         "6",
         "../web_recordings/Dyspnea/audio/Dyspnea_exhale_7.wav",
         "exhale"
        ],
        [
         "7",
         "../web_recordings/Dyspnea/audio/Dyspnea_inhale_6.wav",
         "inhale"
        ],
        [
         "8",
         "../web_recordings/Dyspnea/audio/Dyspnea_inhale_7.wav",
         "inhale"
        ],
        [
         "9",
         "../web_recordings/Dyspnea/audio/Dyspnea_inhale_5.wav",
         "inhale"
        ],
        [
         "10",
         "../web_recordings/Dyspnea/audio/Dyspnea_inhale_4.wav",
         "inhale"
        ],
        [
         "11",
         "../web_recordings/Dyspnea/audio/Dyspnea_inhale_1.wav",
         "inhale"
        ],
        [
         "12",
         "../web_recordings/Dyspnea/audio/Dyspnea_inhale_3.wav",
         "inhale"
        ],
        [
         "13",
         "../web_recordings/Dyspnea/audio/Dyspnea_inhale_2.wav",
         "inhale"
        ],
        [
         "14",
         "../web_recordings/Dyspnea/audio/Dyspnea_inhale_9.wav",
         "inhale"
        ],
        [
         "15",
         "../web_recordings/Dyspnea/audio/Dyspnea_inhale_8.wav",
         "inhale"
        ],
        [
         "16",
         "../web_recordings/Dyspnea/audio/Dyspnea_exhale_9.wav",
         "exhale"
        ],
        [
         "17",
         "../web_recordings/Dyspnea/audio/Dyspnea_exhale_8.wav",
         "exhale"
        ],
        [
         "18",
         "../web_recordings/Dyspnea/audio/Dyspnea_inhale_10.wav",
         "inhale"
        ],
        [
         "19",
         "../web_recordings/Dyspnea/audio/Dyspnea_exhale_10.wav",
         "exhale"
        ],
        [
         "20",
         "../web_recordings/Running/audio/Running_inhale_8.wav",
         "inhale"
        ],
        [
         "21",
         "../web_recordings/Running/audio/Running_inhale_9.wav",
         "inhale"
        ],
        [
         "22",
         "../web_recordings/Running/audio/Running_exhale_8.wav",
         "exhale"
        ],
        [
         "23",
         "../web_recordings/Running/audio/Running_exhale_9.wav",
         "exhale"
        ],
        [
         "24",
         "../web_recordings/Running/audio/Running_exhale_4.wav",
         "exhale"
        ],
        [
         "25",
         "../web_recordings/Running/audio/Running_exhale_5.wav",
         "exhale"
        ],
        [
         "26",
         "../web_recordings/Running/audio/Running_exhale_7.wav",
         "exhale"
        ],
        [
         "27",
         "../web_recordings/Running/audio/Running_exhale_6.wav",
         "exhale"
        ],
        [
         "28",
         "../web_recordings/Running/audio/Running_exhale_2.wav",
         "exhale"
        ],
        [
         "29",
         "../web_recordings/Running/audio/Running_exhale_3.wav",
         "exhale"
        ],
        [
         "30",
         "../web_recordings/Running/audio/Running_exhale_10.wav",
         "exhale"
        ],
        [
         "31",
         "../web_recordings/Running/audio/Running_exhale_1.wav",
         "exhale"
        ],
        [
         "32",
         "../web_recordings/Running/audio/Running_inhale_10.wav",
         "inhale"
        ],
        [
         "33",
         "../web_recordings/Running/audio/Running_inhale_1.wav",
         "inhale"
        ],
        [
         "34",
         "../web_recordings/Running/audio/Running_inhale_2.wav",
         "inhale"
        ],
        [
         "35",
         "../web_recordings/Running/audio/Running_inhale_3.wav",
         "inhale"
        ],
        [
         "36",
         "../web_recordings/Running/audio/Running_inhale_7.wav",
         "inhale"
        ],
        [
         "37",
         "../web_recordings/Running/audio/Running_inhale_6.wav",
         "inhale"
        ],
        [
         "38",
         "../web_recordings/Running/audio/Running_inhale_4.wav",
         "inhale"
        ],
        [
         "39",
         "../web_recordings/Running/audio/Running_inhale_5.wav",
         "inhale"
        ],
        [
         "40",
         "../web_recordings/Sitting/audio/Sitting_inhale_2.wav",
         "inhale"
        ],
        [
         "41",
         "../web_recordings/Sitting/audio/Sitting_inhale_3.wav",
         "inhale"
        ],
        [
         "42",
         "../web_recordings/Sitting/audio/Sitting_inhale_1.wav",
         "inhale"
        ],
        [
         "43",
         "../web_recordings/Sitting/audio/Sitting_inhale_4.wav",
         "inhale"
        ],
        [
         "44",
         "../web_recordings/Sitting/audio/Sitting_inhale_5.wav",
         "inhale"
        ],
        [
         "45",
         "../web_recordings/Sitting/audio/Sitting_inhale_7.wav",
         "inhale"
        ],
        [
         "46",
         "../web_recordings/Sitting/audio/Sitting_inhale_6.wav",
         "inhale"
        ],
        [
         "47",
         "../web_recordings/Sitting/audio/Sitting_exhale_7.wav",
         "exhale"
        ],
        [
         "48",
         "../web_recordings/Sitting/audio/Sitting_exhale_6.wav",
         "exhale"
        ],
        [
         "49",
         "../web_recordings/Sitting/audio/Sitting_exhale_4.wav",
         "exhale"
        ]
       ],
       "shape": {
        "columns": 2,
        "rows": 120
       }
      },
      "text/html": [
       "<div>\n",
       "<style scoped>\n",
       "    .dataframe tbody tr th:only-of-type {\n",
       "        vertical-align: middle;\n",
       "    }\n",
       "\n",
       "    .dataframe tbody tr th {\n",
       "        vertical-align: top;\n",
       "    }\n",
       "\n",
       "    .dataframe thead th {\n",
       "        text-align: right;\n",
       "    }\n",
       "</style>\n",
       "<table border=\"1\" class=\"dataframe\">\n",
       "  <thead>\n",
       "    <tr style=\"text-align: right;\">\n",
       "      <th></th>\n",
       "      <th>file_name</th>\n",
       "      <th>breath_part</th>\n",
       "    </tr>\n",
       "  </thead>\n",
       "  <tbody>\n",
       "    <tr>\n",
       "      <th>0</th>\n",
       "      <td>../web_recordings/Dyspnea/audio/Dyspnea_exhale...</td>\n",
       "      <td>exhale</td>\n",
       "    </tr>\n",
       "    <tr>\n",
       "      <th>1</th>\n",
       "      <td>../web_recordings/Dyspnea/audio/Dyspnea_exhale...</td>\n",
       "      <td>exhale</td>\n",
       "    </tr>\n",
       "    <tr>\n",
       "      <th>2</th>\n",
       "      <td>../web_recordings/Dyspnea/audio/Dyspnea_exhale...</td>\n",
       "      <td>exhale</td>\n",
       "    </tr>\n",
       "    <tr>\n",
       "      <th>3</th>\n",
       "      <td>../web_recordings/Dyspnea/audio/Dyspnea_exhale...</td>\n",
       "      <td>exhale</td>\n",
       "    </tr>\n",
       "    <tr>\n",
       "      <th>4</th>\n",
       "      <td>../web_recordings/Dyspnea/audio/Dyspnea_exhale...</td>\n",
       "      <td>exhale</td>\n",
       "    </tr>\n",
       "    <tr>\n",
       "      <th>...</th>\n",
       "      <td>...</td>\n",
       "      <td>...</td>\n",
       "    </tr>\n",
       "    <tr>\n",
       "      <th>115</th>\n",
       "      <td>../web_recordings/Walking/audio/Walking_exhale...</td>\n",
       "      <td>exhale</td>\n",
       "    </tr>\n",
       "    <tr>\n",
       "      <th>116</th>\n",
       "      <td>../web_recordings/Walking/audio/Walking_inhale...</td>\n",
       "      <td>inhale</td>\n",
       "    </tr>\n",
       "    <tr>\n",
       "      <th>117</th>\n",
       "      <td>../web_recordings/Walking/audio/Walking_inhale...</td>\n",
       "      <td>inhale</td>\n",
       "    </tr>\n",
       "    <tr>\n",
       "      <th>118</th>\n",
       "      <td>../web_recordings/Walking/audio/Walking_exhale...</td>\n",
       "      <td>exhale</td>\n",
       "    </tr>\n",
       "    <tr>\n",
       "      <th>119</th>\n",
       "      <td>../web_recordings/Walking/audio/Walking_exhale...</td>\n",
       "      <td>exhale</td>\n",
       "    </tr>\n",
       "  </tbody>\n",
       "</table>\n",
       "<p>120 rows × 2 columns</p>\n",
       "</div>"
      ],
      "text/plain": [
       "                                             file_name breath_part\n",
       "0    ../web_recordings/Dyspnea/audio/Dyspnea_exhale...      exhale\n",
       "1    ../web_recordings/Dyspnea/audio/Dyspnea_exhale...      exhale\n",
       "2    ../web_recordings/Dyspnea/audio/Dyspnea_exhale...      exhale\n",
       "3    ../web_recordings/Dyspnea/audio/Dyspnea_exhale...      exhale\n",
       "4    ../web_recordings/Dyspnea/audio/Dyspnea_exhale...      exhale\n",
       "..                                                 ...         ...\n",
       "115  ../web_recordings/Walking/audio/Walking_exhale...      exhale\n",
       "116  ../web_recordings/Walking/audio/Walking_inhale...      inhale\n",
       "117  ../web_recordings/Walking/audio/Walking_inhale...      inhale\n",
       "118  ../web_recordings/Walking/audio/Walking_exhale...      exhale\n",
       "119  ../web_recordings/Walking/audio/Walking_exhale...      exhale\n",
       "\n",
       "[120 rows x 2 columns]"
      ]
     },
     "execution_count": 9,
     "metadata": {},
     "output_type": "execute_result"
    }
   ],
   "source": [
    "df = pd.DataFrame(wavs_list, columns=['file_name'])\n",
    "df[\"breath_part\"] = df[\"file_name\"].str.contains(\"inhale\").replace({True: \"inhale\", False: \"exhale\"})\n",
    "df"
   ]
  },
  {
   "cell_type": "code",
   "execution_count": 12,
   "metadata": {},
   "outputs": [
    {
     "name": "stderr",
     "output_type": "stream",
     "text": [
      "/Users/ilya_shlom/project/breathing_analysis/.venv/lib/python3.11/site-packages/librosa/core/spectrum.py:266: UserWarning: n_fft=2048 is too large for input signal of length=1764\n",
      "  warnings.warn(\n",
      "/Users/ilya_shlom/project/breathing_analysis/.venv/lib/python3.11/site-packages/librosa/core/spectrum.py:266: UserWarning: n_fft=2048 is too large for input signal of length=882\n",
      "  warnings.warn(\n",
      "/Users/ilya_shlom/project/breathing_analysis/.venv/lib/python3.11/site-packages/librosa/core/spectrum.py:266: UserWarning: n_fft=2048 is too large for input signal of length=1764\n",
      "  warnings.warn(\n",
      "/Users/ilya_shlom/project/breathing_analysis/.venv/lib/python3.11/site-packages/librosa/core/spectrum.py:266: UserWarning: n_fft=2048 is too large for input signal of length=926\n",
      "  warnings.warn(\n",
      "/Users/ilya_shlom/project/breathing_analysis/.venv/lib/python3.11/site-packages/librosa/core/spectrum.py:266: UserWarning: n_fft=2048 is too large for input signal of length=926\n",
      "  warnings.warn(\n",
      "/Users/ilya_shlom/project/breathing_analysis/.venv/lib/python3.11/site-packages/librosa/core/spectrum.py:266: UserWarning: n_fft=2048 is too large for input signal of length=1764\n",
      "  warnings.warn(\n",
      "/Users/ilya_shlom/project/breathing_analysis/.venv/lib/python3.11/site-packages/librosa/core/spectrum.py:266: UserWarning: n_fft=2048 is too large for input signal of length=1764\n",
      "  warnings.warn(\n",
      "/Users/ilya_shlom/project/breathing_analysis/.venv/lib/python3.11/site-packages/librosa/core/spectrum.py:266: UserWarning: n_fft=2048 is too large for input signal of length=926\n",
      "  warnings.warn(\n",
      "/Users/ilya_shlom/project/breathing_analysis/.venv/lib/python3.11/site-packages/librosa/core/spectrum.py:266: UserWarning: n_fft=2048 is too large for input signal of length=926\n",
      "  warnings.warn(\n",
      "/Users/ilya_shlom/project/breathing_analysis/.venv/lib/python3.11/site-packages/librosa/core/spectrum.py:266: UserWarning: n_fft=2048 is too large for input signal of length=1764\n",
      "  warnings.warn(\n",
      "/Users/ilya_shlom/project/breathing_analysis/.venv/lib/python3.11/site-packages/librosa/core/spectrum.py:266: UserWarning: n_fft=2048 is too large for input signal of length=1764\n",
      "  warnings.warn(\n",
      "/Users/ilya_shlom/project/breathing_analysis/.venv/lib/python3.11/site-packages/librosa/core/spectrum.py:266: UserWarning: n_fft=2048 is too large for input signal of length=1764\n",
      "  warnings.warn(\n",
      "/Users/ilya_shlom/project/breathing_analysis/.venv/lib/python3.11/site-packages/librosa/core/spectrum.py:266: UserWarning: n_fft=2048 is too large for input signal of length=1764\n",
      "  warnings.warn(\n",
      "/Users/ilya_shlom/project/breathing_analysis/.venv/lib/python3.11/site-packages/librosa/core/spectrum.py:266: UserWarning: n_fft=2048 is too large for input signal of length=882\n",
      "  warnings.warn(\n",
      "/Users/ilya_shlom/project/breathing_analysis/.venv/lib/python3.11/site-packages/librosa/core/spectrum.py:266: UserWarning: n_fft=2048 is too large for input signal of length=882\n",
      "  warnings.warn(\n",
      "/Users/ilya_shlom/project/breathing_analysis/.venv/lib/python3.11/site-packages/librosa/core/spectrum.py:266: UserWarning: n_fft=2048 is too large for input signal of length=1764\n",
      "  warnings.warn(\n",
      "/Users/ilya_shlom/project/breathing_analysis/.venv/lib/python3.11/site-packages/librosa/core/spectrum.py:266: UserWarning: n_fft=2048 is too large for input signal of length=882\n",
      "  warnings.warn(\n",
      "/Users/ilya_shlom/project/breathing_analysis/.venv/lib/python3.11/site-packages/librosa/core/spectrum.py:266: UserWarning: n_fft=2048 is too large for input signal of length=882\n",
      "  warnings.warn(\n",
      "/Users/ilya_shlom/project/breathing_analysis/.venv/lib/python3.11/site-packages/librosa/core/spectrum.py:266: UserWarning: n_fft=2048 is too large for input signal of length=1764\n",
      "  warnings.warn(\n",
      "/Users/ilya_shlom/project/breathing_analysis/.venv/lib/python3.11/site-packages/librosa/core/spectrum.py:266: UserWarning: n_fft=2048 is too large for input signal of length=1764\n",
      "  warnings.warn(\n",
      "/Users/ilya_shlom/project/breathing_analysis/.venv/lib/python3.11/site-packages/librosa/core/spectrum.py:266: UserWarning: n_fft=2048 is too large for input signal of length=1764\n",
      "  warnings.warn(\n",
      "/Users/ilya_shlom/project/breathing_analysis/.venv/lib/python3.11/site-packages/librosa/core/spectrum.py:266: UserWarning: n_fft=2048 is too large for input signal of length=1764\n",
      "  warnings.warn(\n",
      "/Users/ilya_shlom/project/breathing_analysis/.venv/lib/python3.11/site-packages/librosa/core/spectrum.py:266: UserWarning: n_fft=2048 is too large for input signal of length=1764\n",
      "  warnings.warn(\n",
      "/Users/ilya_shlom/project/breathing_analysis/.venv/lib/python3.11/site-packages/librosa/core/spectrum.py:266: UserWarning: n_fft=2048 is too large for input signal of length=1764\n",
      "  warnings.warn(\n",
      "/Users/ilya_shlom/project/breathing_analysis/.venv/lib/python3.11/site-packages/librosa/core/spectrum.py:266: UserWarning: n_fft=2048 is too large for input signal of length=1764\n",
      "  warnings.warn(\n",
      "/Users/ilya_shlom/project/breathing_analysis/.venv/lib/python3.11/site-packages/librosa/core/spectrum.py:266: UserWarning: n_fft=2048 is too large for input signal of length=1764\n",
      "  warnings.warn(\n",
      "/Users/ilya_shlom/project/breathing_analysis/.venv/lib/python3.11/site-packages/librosa/core/spectrum.py:266: UserWarning: n_fft=2048 is too large for input signal of length=882\n",
      "  warnings.warn(\n"
     ]
    },
    {
     "data": {
      "application/vnd.microsoft.datawrangler.viewer.v0+json": {
       "columns": [
        {
         "name": "index",
         "rawType": "int64",
         "type": "integer"
        },
        {
         "name": "file_name",
         "rawType": "object",
         "type": "string"
        },
        {
         "name": "breath_part",
         "rawType": "object",
         "type": "string"
        },
        {
         "name": "transcript",
         "rawType": "object",
         "type": "string"
        }
       ],
       "conversionMethod": "pd.DataFrame",
       "ref": "55593e60-d480-43c9-91c0-77a926956db8",
       "rows": [
        [
         "0",
         "../web_recordings/Dyspnea/audio/Dyspnea_exhale_3.wav",
         "exhale",
         "щглшлсмчфщщ"
        ],
        [
         "1",
         "../web_recordings/Dyspnea/audio/Dyspnea_exhale_2.wav",
         "exhale",
         "щтссшщзчффк"
        ],
        [
         "2",
         "../web_recordings/Dyspnea/audio/Dyspnea_exhale_1.wav",
         "exhale",
         "зфлфщсзфсзшс"
        ],
        [
         "3",
         "../web_recordings/Dyspnea/audio/Dyspnea_exhale_5.wav",
         "exhale",
         "чгщфшзфщссзч"
        ],
        [
         "4",
         "../web_recordings/Dyspnea/audio/Dyspnea_exhale_4.wav",
         "exhale",
         "ччгбсцфзлззч"
        ],
        [
         "5",
         "../web_recordings/Dyspnea/audio/Dyspnea_exhale_6.wav",
         "exhale",
         "зфсфщзсфзз"
        ],
        [
         "6",
         "../web_recordings/Dyspnea/audio/Dyspnea_exhale_7.wav",
         "exhale",
         "щчслтфслсшсщ"
        ],
        [
         "7",
         "../web_recordings/Dyspnea/audio/Dyspnea_inhale_6.wav",
         "inhale",
         "щзчщщззшшфз"
        ],
        [
         "8",
         "../web_recordings/Dyspnea/audio/Dyspnea_inhale_7.wav",
         "inhale",
         "сфщссфзссча"
        ],
        [
         "9",
         "../web_recordings/Dyspnea/audio/Dyspnea_inhale_5.wav",
         "inhale",
         "сфшчтззрззлкч"
        ],
        [
         "10",
         "../web_recordings/Dyspnea/audio/Dyspnea_inhale_4.wav",
         "inhale",
         "счсшсфзсзшзс"
        ],
        [
         "11",
         "../web_recordings/Dyspnea/audio/Dyspnea_inhale_1.wav",
         "inhale",
         "щщфтзшззз"
        ],
        [
         "12",
         "../web_recordings/Dyspnea/audio/Dyspnea_inhale_3.wav",
         "inhale",
         "счшзтзщфз"
        ],
        [
         "13",
         "../web_recordings/Dyspnea/audio/Dyspnea_inhale_2.wav",
         "inhale",
         "щчфззффтсз"
        ],
        [
         "14",
         "../web_recordings/Dyspnea/audio/Dyspnea_inhale_9.wav",
         "inhale",
         "щссффсшлсз"
        ],
        [
         "15",
         "../web_recordings/Dyspnea/audio/Dyspnea_inhale_8.wav",
         "inhale",
         "сцфафлзнш"
        ],
        [
         "16",
         "../web_recordings/Dyspnea/audio/Dyspnea_exhale_9.wav",
         "exhale",
         "тзшщзллзшз"
        ],
        [
         "17",
         "../web_recordings/Dyspnea/audio/Dyspnea_exhale_8.wav",
         "exhale",
         "щчфтзсззфз"
        ],
        [
         "18",
         "../web_recordings/Dyspnea/audio/Dyspnea_inhale_10.wav",
         "inhale",
         "шщмшшзтфщ"
        ],
        [
         "19",
         "../web_recordings/Dyspnea/audio/Dyspnea_exhale_10.wav",
         "exhale",
         "сфзлсфзсзсщ"
        ],
        [
         "20",
         "../web_recordings/Running/audio/Running_inhale_8.wav",
         "inhale",
         "зфзффшсмт"
        ],
        [
         "21",
         "../web_recordings/Running/audio/Running_inhale_9.wav",
         "inhale",
         "сзфтзс"
        ],
        [
         "22",
         "../web_recordings/Running/audio/Running_exhale_8.wav",
         "exhale",
         "тшшзсшзза"
        ],
        [
         "23",
         "../web_recordings/Running/audio/Running_exhale_9.wav",
         "exhale",
         "зрташшщз"
        ],
        [
         "24",
         "../web_recordings/Running/audio/Running_exhale_4.wav",
         "exhale",
         "жттллззт"
        ],
        [
         "25",
         "../web_recordings/Running/audio/Running_exhale_5.wav",
         "exhale",
         "чстзфщ"
        ],
        [
         "26",
         "../web_recordings/Running/audio/Running_exhale_7.wav",
         "exhale",
         "фттзтфстз"
        ],
        [
         "27",
         "../web_recordings/Running/audio/Running_exhale_6.wav",
         "exhale",
         "зсстфзз"
        ],
        [
         "28",
         "../web_recordings/Running/audio/Running_exhale_2.wav",
         "exhale",
         "зссфтштш"
        ],
        [
         "29",
         "../web_recordings/Running/audio/Running_exhale_3.wav",
         "exhale",
         "сащчч"
        ],
        [
         "30",
         "../web_recordings/Running/audio/Running_exhale_10.wav",
         "exhale",
         "ззчзфф"
        ],
        [
         "31",
         "../web_recordings/Running/audio/Running_exhale_1.wav",
         "exhale",
         "фмффзсфс"
        ],
        [
         "32",
         "../web_recordings/Running/audio/Running_inhale_10.wav",
         "inhale",
         "ззхзщшшфз"
        ],
        [
         "33",
         "../web_recordings/Running/audio/Running_inhale_1.wav",
         "inhale",
         "гффсцффщш"
        ],
        [
         "34",
         "../web_recordings/Running/audio/Running_inhale_2.wav",
         "inhale",
         "лщллчс"
        ],
        [
         "35",
         "../web_recordings/Running/audio/Running_inhale_3.wav",
         "inhale",
         "щтфзсз"
        ],
        [
         "36",
         "../web_recordings/Running/audio/Running_inhale_7.wav",
         "inhale",
         "шшлсфсс"
        ],
        [
         "37",
         "../web_recordings/Running/audio/Running_inhale_6.wav",
         "inhale",
         "шамллзфз"
        ],
        [
         "38",
         "../web_recordings/Running/audio/Running_inhale_4.wav",
         "inhale",
         "ззтрбшфс"
        ],
        [
         "39",
         "../web_recordings/Running/audio/Running_inhale_5.wav",
         "inhale",
         "чсстзт"
        ],
        [
         "40",
         "../web_recordings/Sitting/audio/Sitting_inhale_2.wav",
         "inhale",
         "кзшфлтфзфчц"
        ],
        [
         "41",
         "../web_recordings/Sitting/audio/Sitting_inhale_3.wav",
         "inhale",
         "фщсчшстзззтщзс"
        ],
        [
         "42",
         "../web_recordings/Sitting/audio/Sitting_inhale_1.wav",
         "inhale",
         "зщчзшфтзрсшсщц"
        ],
        [
         "43",
         "../web_recordings/Sitting/audio/Sitting_inhale_4.wav",
         "inhale",
         "щщщщффсщлзлсзс"
        ],
        [
         "44",
         "../web_recordings/Sitting/audio/Sitting_inhale_5.wav",
         "inhale",
         "сшсщззсзазтщс"
        ],
        [
         "45",
         "../web_recordings/Sitting/audio/Sitting_inhale_7.wav",
         "inhale",
         "гччфщзщлзлтщ"
        ],
        [
         "46",
         "../web_recordings/Sitting/audio/Sitting_inhale_6.wav",
         "inhale",
         "фщфлхлрмзщрцш"
        ],
        [
         "47",
         "../web_recordings/Sitting/audio/Sitting_exhale_7.wav",
         "exhale",
         "щщфзтшффшзщшщз"
        ],
        [
         "48",
         "../web_recordings/Sitting/audio/Sitting_exhale_6.wav",
         "exhale",
         "ччсззщлщтзтсзсс"
        ],
        [
         "49",
         "../web_recordings/Sitting/audio/Sitting_exhale_4.wav",
         "exhale",
         "фггллрбшсшлззфщ"
        ]
       ],
       "shape": {
        "columns": 3,
        "rows": 120
       }
      },
      "text/html": [
       "<div>\n",
       "<style scoped>\n",
       "    .dataframe tbody tr th:only-of-type {\n",
       "        vertical-align: middle;\n",
       "    }\n",
       "\n",
       "    .dataframe tbody tr th {\n",
       "        vertical-align: top;\n",
       "    }\n",
       "\n",
       "    .dataframe thead th {\n",
       "        text-align: right;\n",
       "    }\n",
       "</style>\n",
       "<table border=\"1\" class=\"dataframe\">\n",
       "  <thead>\n",
       "    <tr style=\"text-align: right;\">\n",
       "      <th></th>\n",
       "      <th>file_name</th>\n",
       "      <th>breath_part</th>\n",
       "      <th>transcript</th>\n",
       "    </tr>\n",
       "  </thead>\n",
       "  <tbody>\n",
       "    <tr>\n",
       "      <th>0</th>\n",
       "      <td>../web_recordings/Dyspnea/audio/Dyspnea_exhale...</td>\n",
       "      <td>exhale</td>\n",
       "      <td>щглшлсмчфщщ</td>\n",
       "    </tr>\n",
       "    <tr>\n",
       "      <th>1</th>\n",
       "      <td>../web_recordings/Dyspnea/audio/Dyspnea_exhale...</td>\n",
       "      <td>exhale</td>\n",
       "      <td>щтссшщзчффк</td>\n",
       "    </tr>\n",
       "    <tr>\n",
       "      <th>2</th>\n",
       "      <td>../web_recordings/Dyspnea/audio/Dyspnea_exhale...</td>\n",
       "      <td>exhale</td>\n",
       "      <td>зфлфщсзфсзшс</td>\n",
       "    </tr>\n",
       "    <tr>\n",
       "      <th>3</th>\n",
       "      <td>../web_recordings/Dyspnea/audio/Dyspnea_exhale...</td>\n",
       "      <td>exhale</td>\n",
       "      <td>чгщфшзфщссзч</td>\n",
       "    </tr>\n",
       "    <tr>\n",
       "      <th>4</th>\n",
       "      <td>../web_recordings/Dyspnea/audio/Dyspnea_exhale...</td>\n",
       "      <td>exhale</td>\n",
       "      <td>ччгбсцфзлззч</td>\n",
       "    </tr>\n",
       "    <tr>\n",
       "      <th>...</th>\n",
       "      <td>...</td>\n",
       "      <td>...</td>\n",
       "      <td>...</td>\n",
       "    </tr>\n",
       "    <tr>\n",
       "      <th>115</th>\n",
       "      <td>../web_recordings/Walking/audio/Walking_exhale...</td>\n",
       "      <td>exhale</td>\n",
       "      <td>щзлшшлфшсзфшлцз</td>\n",
       "    </tr>\n",
       "    <tr>\n",
       "      <th>116</th>\n",
       "      <td>../web_recordings/Walking/audio/Walking_inhale...</td>\n",
       "      <td>inhale</td>\n",
       "      <td>зщсшфтффззлщссфщщ</td>\n",
       "    </tr>\n",
       "    <tr>\n",
       "      <th>117</th>\n",
       "      <td>../web_recordings/Walking/audio/Walking_inhale...</td>\n",
       "      <td>inhale</td>\n",
       "      <td>зчзтнлтщфрчсщ</td>\n",
       "    </tr>\n",
       "    <tr>\n",
       "      <th>118</th>\n",
       "      <td>../web_recordings/Walking/audio/Walking_exhale...</td>\n",
       "      <td>exhale</td>\n",
       "      <td>фшщшщлшзбфтсфсшч</td>\n",
       "    </tr>\n",
       "    <tr>\n",
       "      <th>119</th>\n",
       "      <td>../web_recordings/Walking/audio/Walking_exhale...</td>\n",
       "      <td>exhale</td>\n",
       "      <td>мтсттллфтффшлкхццс</td>\n",
       "    </tr>\n",
       "  </tbody>\n",
       "</table>\n",
       "<p>120 rows × 3 columns</p>\n",
       "</div>"
      ],
      "text/plain": [
       "                                             file_name breath_part  \\\n",
       "0    ../web_recordings/Dyspnea/audio/Dyspnea_exhale...      exhale   \n",
       "1    ../web_recordings/Dyspnea/audio/Dyspnea_exhale...      exhale   \n",
       "2    ../web_recordings/Dyspnea/audio/Dyspnea_exhale...      exhale   \n",
       "3    ../web_recordings/Dyspnea/audio/Dyspnea_exhale...      exhale   \n",
       "4    ../web_recordings/Dyspnea/audio/Dyspnea_exhale...      exhale   \n",
       "..                                                 ...         ...   \n",
       "115  ../web_recordings/Walking/audio/Walking_exhale...      exhale   \n",
       "116  ../web_recordings/Walking/audio/Walking_inhale...      inhale   \n",
       "117  ../web_recordings/Walking/audio/Walking_inhale...      inhale   \n",
       "118  ../web_recordings/Walking/audio/Walking_exhale...      exhale   \n",
       "119  ../web_recordings/Walking/audio/Walking_exhale...      exhale   \n",
       "\n",
       "             transcript  \n",
       "0           щглшлсмчфщщ  \n",
       "1           щтссшщзчффк  \n",
       "2          зфлфщсзфсзшс  \n",
       "3          чгщфшзфщссзч  \n",
       "4          ччгбсцфзлззч  \n",
       "..                  ...  \n",
       "115     щзлшшлфшсзфшлцз  \n",
       "116   зщсшфтффззлщссфщщ  \n",
       "117       зчзтнлтщфрчсщ  \n",
       "118    фшщшщлшзбфтсфсшч  \n",
       "119  мтсттллфтффшлкхццс  \n",
       "\n",
       "[120 rows x 3 columns]"
      ]
     },
     "execution_count": 12,
     "metadata": {},
     "output_type": "execute_result"
    }
   ],
   "source": [
    "from tools import audio_fingerprinting\n",
    "\n",
    "df[\"transcript\"] = df[\"file_name\"].apply(lambda x: audio_fingerprinting.translate_breath(x))\n",
    "df"
   ]
  },
  {
   "cell_type": "code",
   "execution_count": 14,
   "metadata": {},
   "outputs": [
    {
     "data": {
      "application/vnd.microsoft.datawrangler.viewer.v0+json": {
       "columns": [
        {
         "name": "index",
         "rawType": "int64",
         "type": "integer"
        },
        {
         "name": "file_name",
         "rawType": "object",
         "type": "string"
        },
        {
         "name": "breath_part",
         "rawType": "object",
         "type": "string"
        },
        {
         "name": "transcript",
         "rawType": "object",
         "type": "string"
        },
        {
         "name": "cluster_hash",
         "rawType": "int32",
         "type": "integer"
        },
        {
         "name": "cluster",
         "rawType": "int32",
         "type": "integer"
        }
       ],
       "conversionMethod": "pd.DataFrame",
       "ref": "8358bb10-f862-461b-afcd-9c7e7f61d2b1",
       "rows": [
        [
         "0",
         "../web_recordings/Dyspnea/audio/Dyspnea_exhale_3.wav",
         "exhale",
         "щглшлсмчфщщ",
         "0",
         "1"
        ],
        [
         "1",
         "../web_recordings/Dyspnea/audio/Dyspnea_exhale_2.wav",
         "exhale",
         "щтссшщзчффк",
         "0",
         "1"
        ],
        [
         "2",
         "../web_recordings/Dyspnea/audio/Dyspnea_exhale_1.wav",
         "exhale",
         "зфлфщсзфсзшс",
         "0",
         "1"
        ],
        [
         "3",
         "../web_recordings/Dyspnea/audio/Dyspnea_exhale_5.wav",
         "exhale",
         "чгщфшзфщссзч",
         "0",
         "1"
        ],
        [
         "4",
         "../web_recordings/Dyspnea/audio/Dyspnea_exhale_4.wav",
         "exhale",
         "ччгбсцфзлззч",
         "0",
         "1"
        ],
        [
         "5",
         "../web_recordings/Dyspnea/audio/Dyspnea_exhale_6.wav",
         "exhale",
         "зфсфщзсфзз",
         "1",
         "1"
        ],
        [
         "6",
         "../web_recordings/Dyspnea/audio/Dyspnea_exhale_7.wav",
         "exhale",
         "щчслтфслсшсщ",
         "1",
         "0"
        ],
        [
         "7",
         "../web_recordings/Dyspnea/audio/Dyspnea_inhale_6.wav",
         "inhale",
         "щзчщщззшшфз",
         "1",
         "1"
        ],
        [
         "8",
         "../web_recordings/Dyspnea/audio/Dyspnea_inhale_7.wav",
         "inhale",
         "сфщссфзссча",
         "0",
         "1"
        ],
        [
         "9",
         "../web_recordings/Dyspnea/audio/Dyspnea_inhale_5.wav",
         "inhale",
         "сфшчтззрззлкч",
         "1",
         "1"
        ],
        [
         "10",
         "../web_recordings/Dyspnea/audio/Dyspnea_inhale_4.wav",
         "inhale",
         "счсшсфзсзшзс",
         "1",
         "0"
        ],
        [
         "11",
         "../web_recordings/Dyspnea/audio/Dyspnea_inhale_1.wav",
         "inhale",
         "щщфтзшззз",
         "1",
         "1"
        ],
        [
         "12",
         "../web_recordings/Dyspnea/audio/Dyspnea_inhale_3.wav",
         "inhale",
         "счшзтзщфз",
         "0",
         "1"
        ],
        [
         "13",
         "../web_recordings/Dyspnea/audio/Dyspnea_inhale_2.wav",
         "inhale",
         "щчфззффтсз",
         "1",
         "1"
        ],
        [
         "14",
         "../web_recordings/Dyspnea/audio/Dyspnea_inhale_9.wav",
         "inhale",
         "щссффсшлсз",
         "1",
         "1"
        ],
        [
         "15",
         "../web_recordings/Dyspnea/audio/Dyspnea_inhale_8.wav",
         "inhale",
         "сцфафлзнш",
         "1",
         "1"
        ],
        [
         "16",
         "../web_recordings/Dyspnea/audio/Dyspnea_exhale_9.wav",
         "exhale",
         "тзшщзллзшз",
         "1",
         "1"
        ],
        [
         "17",
         "../web_recordings/Dyspnea/audio/Dyspnea_exhale_8.wav",
         "exhale",
         "щчфтзсззфз",
         "0",
         "0"
        ],
        [
         "18",
         "../web_recordings/Dyspnea/audio/Dyspnea_inhale_10.wav",
         "inhale",
         "шщмшшзтфщ",
         "1",
         "1"
        ],
        [
         "19",
         "../web_recordings/Dyspnea/audio/Dyspnea_exhale_10.wav",
         "exhale",
         "сфзлсфзсзсщ",
         "1",
         "0"
        ],
        [
         "20",
         "../web_recordings/Running/audio/Running_inhale_8.wav",
         "inhale",
         "зфзффшсмт",
         "0",
         "1"
        ],
        [
         "21",
         "../web_recordings/Running/audio/Running_inhale_9.wav",
         "inhale",
         "сзфтзс",
         "0",
         "1"
        ],
        [
         "22",
         "../web_recordings/Running/audio/Running_exhale_8.wav",
         "exhale",
         "тшшзсшзза",
         "1",
         "1"
        ],
        [
         "23",
         "../web_recordings/Running/audio/Running_exhale_9.wav",
         "exhale",
         "зрташшщз",
         "1",
         "1"
        ],
        [
         "24",
         "../web_recordings/Running/audio/Running_exhale_4.wav",
         "exhale",
         "жттллззт",
         "1",
         "1"
        ],
        [
         "25",
         "../web_recordings/Running/audio/Running_exhale_5.wav",
         "exhale",
         "чстзфщ",
         "1",
         "1"
        ],
        [
         "26",
         "../web_recordings/Running/audio/Running_exhale_7.wav",
         "exhale",
         "фттзтфстз",
         "1",
         "1"
        ],
        [
         "27",
         "../web_recordings/Running/audio/Running_exhale_6.wav",
         "exhale",
         "зсстфзз",
         "1",
         "1"
        ],
        [
         "28",
         "../web_recordings/Running/audio/Running_exhale_2.wav",
         "exhale",
         "зссфтштш",
         "1",
         "1"
        ],
        [
         "29",
         "../web_recordings/Running/audio/Running_exhale_3.wav",
         "exhale",
         "сащчч",
         "1",
         "1"
        ],
        [
         "30",
         "../web_recordings/Running/audio/Running_exhale_10.wav",
         "exhale",
         "ззчзфф",
         "1",
         "1"
        ],
        [
         "31",
         "../web_recordings/Running/audio/Running_exhale_1.wav",
         "exhale",
         "фмффзсфс",
         "1",
         "1"
        ],
        [
         "32",
         "../web_recordings/Running/audio/Running_inhale_10.wav",
         "inhale",
         "ззхзщшшфз",
         "1",
         "1"
        ],
        [
         "33",
         "../web_recordings/Running/audio/Running_inhale_1.wav",
         "inhale",
         "гффсцффщш",
         "0",
         "1"
        ],
        [
         "34",
         "../web_recordings/Running/audio/Running_inhale_2.wav",
         "inhale",
         "лщллчс",
         "0",
         "1"
        ],
        [
         "35",
         "../web_recordings/Running/audio/Running_inhale_3.wav",
         "inhale",
         "щтфзсз",
         "1",
         "0"
        ],
        [
         "36",
         "../web_recordings/Running/audio/Running_inhale_7.wav",
         "inhale",
         "шшлсфсс",
         "0",
         "1"
        ],
        [
         "37",
         "../web_recordings/Running/audio/Running_inhale_6.wav",
         "inhale",
         "шамллзфз",
         "0",
         "1"
        ],
        [
         "38",
         "../web_recordings/Running/audio/Running_inhale_4.wav",
         "inhale",
         "ззтрбшфс",
         "1",
         "1"
        ],
        [
         "39",
         "../web_recordings/Running/audio/Running_inhale_5.wav",
         "inhale",
         "чсстзт",
         "1",
         "1"
        ],
        [
         "40",
         "../web_recordings/Sitting/audio/Sitting_inhale_2.wav",
         "inhale",
         "кзшфлтфзфчц",
         "1",
         "1"
        ],
        [
         "41",
         "../web_recordings/Sitting/audio/Sitting_inhale_3.wav",
         "inhale",
         "фщсчшстзззтщзс",
         "1",
         "0"
        ],
        [
         "42",
         "../web_recordings/Sitting/audio/Sitting_inhale_1.wav",
         "inhale",
         "зщчзшфтзрсшсщц",
         "0",
         "0"
        ],
        [
         "43",
         "../web_recordings/Sitting/audio/Sitting_inhale_4.wav",
         "inhale",
         "щщщщффсщлзлсзс",
         "1",
         "1"
        ],
        [
         "44",
         "../web_recordings/Sitting/audio/Sitting_inhale_5.wav",
         "inhale",
         "сшсщззсзазтщс",
         "0",
         "0"
        ],
        [
         "45",
         "../web_recordings/Sitting/audio/Sitting_inhale_7.wav",
         "inhale",
         "гччфщзщлзлтщ",
         "0",
         "1"
        ],
        [
         "46",
         "../web_recordings/Sitting/audio/Sitting_inhale_6.wav",
         "inhale",
         "фщфлхлрмзщрцш",
         "1",
         "1"
        ],
        [
         "47",
         "../web_recordings/Sitting/audio/Sitting_exhale_7.wav",
         "exhale",
         "щщфзтшффшзщшщз",
         "1",
         "1"
        ],
        [
         "48",
         "../web_recordings/Sitting/audio/Sitting_exhale_6.wav",
         "exhale",
         "ччсззщлщтзтсзсс",
         "1",
         "1"
        ],
        [
         "49",
         "../web_recordings/Sitting/audio/Sitting_exhale_4.wav",
         "exhale",
         "фггллрбшсшлззфщ",
         "0",
         "1"
        ]
       ],
       "shape": {
        "columns": 5,
        "rows": 120
       }
      },
      "text/html": [
       "<div>\n",
       "<style scoped>\n",
       "    .dataframe tbody tr th:only-of-type {\n",
       "        vertical-align: middle;\n",
       "    }\n",
       "\n",
       "    .dataframe tbody tr th {\n",
       "        vertical-align: top;\n",
       "    }\n",
       "\n",
       "    .dataframe thead th {\n",
       "        text-align: right;\n",
       "    }\n",
       "</style>\n",
       "<table border=\"1\" class=\"dataframe\">\n",
       "  <thead>\n",
       "    <tr style=\"text-align: right;\">\n",
       "      <th></th>\n",
       "      <th>file_name</th>\n",
       "      <th>breath_part</th>\n",
       "      <th>transcript</th>\n",
       "      <th>cluster_hash</th>\n",
       "      <th>cluster</th>\n",
       "    </tr>\n",
       "  </thead>\n",
       "  <tbody>\n",
       "    <tr>\n",
       "      <th>0</th>\n",
       "      <td>../web_recordings/Dyspnea/audio/Dyspnea_exhale...</td>\n",
       "      <td>exhale</td>\n",
       "      <td>щглшлсмчфщщ</td>\n",
       "      <td>0</td>\n",
       "      <td>1</td>\n",
       "    </tr>\n",
       "    <tr>\n",
       "      <th>1</th>\n",
       "      <td>../web_recordings/Dyspnea/audio/Dyspnea_exhale...</td>\n",
       "      <td>exhale</td>\n",
       "      <td>щтссшщзчффк</td>\n",
       "      <td>0</td>\n",
       "      <td>1</td>\n",
       "    </tr>\n",
       "    <tr>\n",
       "      <th>2</th>\n",
       "      <td>../web_recordings/Dyspnea/audio/Dyspnea_exhale...</td>\n",
       "      <td>exhale</td>\n",
       "      <td>зфлфщсзфсзшс</td>\n",
       "      <td>0</td>\n",
       "      <td>1</td>\n",
       "    </tr>\n",
       "    <tr>\n",
       "      <th>3</th>\n",
       "      <td>../web_recordings/Dyspnea/audio/Dyspnea_exhale...</td>\n",
       "      <td>exhale</td>\n",
       "      <td>чгщфшзфщссзч</td>\n",
       "      <td>0</td>\n",
       "      <td>1</td>\n",
       "    </tr>\n",
       "    <tr>\n",
       "      <th>4</th>\n",
       "      <td>../web_recordings/Dyspnea/audio/Dyspnea_exhale...</td>\n",
       "      <td>exhale</td>\n",
       "      <td>ччгбсцфзлззч</td>\n",
       "      <td>0</td>\n",
       "      <td>1</td>\n",
       "    </tr>\n",
       "    <tr>\n",
       "      <th>...</th>\n",
       "      <td>...</td>\n",
       "      <td>...</td>\n",
       "      <td>...</td>\n",
       "      <td>...</td>\n",
       "      <td>...</td>\n",
       "    </tr>\n",
       "    <tr>\n",
       "      <th>115</th>\n",
       "      <td>../web_recordings/Walking/audio/Walking_exhale...</td>\n",
       "      <td>exhale</td>\n",
       "      <td>щзлшшлфшсзфшлцз</td>\n",
       "      <td>1</td>\n",
       "      <td>1</td>\n",
       "    </tr>\n",
       "    <tr>\n",
       "      <th>116</th>\n",
       "      <td>../web_recordings/Walking/audio/Walking_inhale...</td>\n",
       "      <td>inhale</td>\n",
       "      <td>зщсшфтффззлщссфщщ</td>\n",
       "      <td>0</td>\n",
       "      <td>1</td>\n",
       "    </tr>\n",
       "    <tr>\n",
       "      <th>117</th>\n",
       "      <td>../web_recordings/Walking/audio/Walking_inhale...</td>\n",
       "      <td>inhale</td>\n",
       "      <td>зчзтнлтщфрчсщ</td>\n",
       "      <td>0</td>\n",
       "      <td>1</td>\n",
       "    </tr>\n",
       "    <tr>\n",
       "      <th>118</th>\n",
       "      <td>../web_recordings/Walking/audio/Walking_exhale...</td>\n",
       "      <td>exhale</td>\n",
       "      <td>фшщшщлшзбфтсфсшч</td>\n",
       "      <td>0</td>\n",
       "      <td>1</td>\n",
       "    </tr>\n",
       "    <tr>\n",
       "      <th>119</th>\n",
       "      <td>../web_recordings/Walking/audio/Walking_exhale...</td>\n",
       "      <td>exhale</td>\n",
       "      <td>мтсттллфтффшлкхццс</td>\n",
       "      <td>1</td>\n",
       "      <td>1</td>\n",
       "    </tr>\n",
       "  </tbody>\n",
       "</table>\n",
       "<p>120 rows × 5 columns</p>\n",
       "</div>"
      ],
      "text/plain": [
       "                                             file_name breath_part  \\\n",
       "0    ../web_recordings/Dyspnea/audio/Dyspnea_exhale...      exhale   \n",
       "1    ../web_recordings/Dyspnea/audio/Dyspnea_exhale...      exhale   \n",
       "2    ../web_recordings/Dyspnea/audio/Dyspnea_exhale...      exhale   \n",
       "3    ../web_recordings/Dyspnea/audio/Dyspnea_exhale...      exhale   \n",
       "4    ../web_recordings/Dyspnea/audio/Dyspnea_exhale...      exhale   \n",
       "..                                                 ...         ...   \n",
       "115  ../web_recordings/Walking/audio/Walking_exhale...      exhale   \n",
       "116  ../web_recordings/Walking/audio/Walking_inhale...      inhale   \n",
       "117  ../web_recordings/Walking/audio/Walking_inhale...      inhale   \n",
       "118  ../web_recordings/Walking/audio/Walking_exhale...      exhale   \n",
       "119  ../web_recordings/Walking/audio/Walking_exhale...      exhale   \n",
       "\n",
       "             transcript  cluster_hash  cluster  \n",
       "0           щглшлсмчфщщ             0        1  \n",
       "1           щтссшщзчффк             0        1  \n",
       "2          зфлфщсзфсзшс             0        1  \n",
       "3          чгщфшзфщссзч             0        1  \n",
       "4          ччгбсцфзлззч             0        1  \n",
       "..                  ...           ...      ...  \n",
       "115     щзлшшлфшсзфшлцз             1        1  \n",
       "116   зщсшфтффззлщссфщщ             0        1  \n",
       "117       зчзтнлтщфрчсщ             0        1  \n",
       "118    фшщшщлшзбфтсфсшч             0        1  \n",
       "119  мтсттллфтффшлкхццс             1        1  \n",
       "\n",
       "[120 rows x 5 columns]"
      ]
     },
     "execution_count": 14,
     "metadata": {},
     "output_type": "execute_result"
    }
   ],
   "source": [
    "from sklearn.feature_extraction.text import HashingVectorizer\n",
    "from sklearn.feature_extraction.text import TfidfVectorizer\n",
    "from sklearn.preprocessing import StandardScaler\n",
    "from sklearn.cluster import KMeans\n",
    "from scipy.sparse import hstack\n",
    "\n",
    "vectorizer = TfidfVectorizer(analyzer='char_wb', ngram_range=(3, 5))\n",
    "tfidf_features = vectorizer.fit_transform(df['transcript'])\n",
    "\n",
    "combined_features = hstack([tfidf_features])\n",
    "\n",
    "kmeans = KMeans(n_clusters=2, random_state=42)\n",
    "clusters = kmeans.fit_predict(combined_features)\n",
    "df['cluster'] = clusters\n",
    "\n",
    "df"
   ]
  },
  {
   "cell_type": "code",
   "execution_count": 25,
   "metadata": {},
   "outputs": [
    {
     "data": {
      "application/vnd.microsoft.datawrangler.viewer.v0+json": {
       "columns": [
        {
         "name": "index",
         "rawType": "int64",
         "type": "integer"
        },
        {
         "name": "file_name",
         "rawType": "object",
         "type": "string"
        },
        {
         "name": "breath_part",
         "rawType": "object",
         "type": "string"
        },
        {
         "name": "transcript",
         "rawType": "object",
         "type": "string"
        },
        {
         "name": "cluster_hash",
         "rawType": "int32",
         "type": "integer"
        },
        {
         "name": "cluster",
         "rawType": "int32",
         "type": "integer"
        }
       ],
       "conversionMethod": "pd.DataFrame",
       "ref": "dd318bde-fb91-40db-b27e-a57de0ed9768",
       "rows": [
        [
         "0",
         "../web_recordings/Dyspnea/audio/Dyspnea_exhale_3.wav",
         "exhale",
         "щглшлсмчфщщ",
         "0",
         "1"
        ],
        [
         "1",
         "../web_recordings/Dyspnea/audio/Dyspnea_exhale_2.wav",
         "exhale",
         "щтссшщзчффк",
         "1",
         "1"
        ],
        [
         "2",
         "../web_recordings/Dyspnea/audio/Dyspnea_exhale_1.wav",
         "exhale",
         "зфлфщсзфсзшс",
         "0",
         "1"
        ],
        [
         "3",
         "../web_recordings/Dyspnea/audio/Dyspnea_exhale_5.wav",
         "exhale",
         "чгщфшзфщссзч",
         "1",
         "1"
        ],
        [
         "4",
         "../web_recordings/Dyspnea/audio/Dyspnea_exhale_4.wav",
         "exhale",
         "ччгбсцфзлззч",
         "0",
         "1"
        ],
        [
         "5",
         "../web_recordings/Dyspnea/audio/Dyspnea_exhale_6.wav",
         "exhale",
         "зфсфщзсфзз",
         "0",
         "1"
        ],
        [
         "6",
         "../web_recordings/Dyspnea/audio/Dyspnea_exhale_7.wav",
         "exhale",
         "щчслтфслсшсщ",
         "0",
         "0"
        ],
        [
         "7",
         "../web_recordings/Dyspnea/audio/Dyspnea_inhale_6.wav",
         "inhale",
         "щзчщщззшшфз",
         "1",
         "1"
        ],
        [
         "8",
         "../web_recordings/Dyspnea/audio/Dyspnea_inhale_7.wav",
         "inhale",
         "сфщссфзссча",
         "0",
         "1"
        ],
        [
         "9",
         "../web_recordings/Dyspnea/audio/Dyspnea_inhale_5.wav",
         "inhale",
         "сфшчтззрззлкч",
         "1",
         "1"
        ],
        [
         "10",
         "../web_recordings/Dyspnea/audio/Dyspnea_inhale_4.wav",
         "inhale",
         "счсшсфзсзшзс",
         "1",
         "0"
        ],
        [
         "11",
         "../web_recordings/Dyspnea/audio/Dyspnea_inhale_1.wav",
         "inhale",
         "щщфтзшззз",
         "0",
         "1"
        ],
        [
         "12",
         "../web_recordings/Dyspnea/audio/Dyspnea_inhale_3.wav",
         "inhale",
         "счшзтзщфз",
         "1",
         "1"
        ],
        [
         "13",
         "../web_recordings/Dyspnea/audio/Dyspnea_inhale_2.wav",
         "inhale",
         "щчфззффтсз",
         "0",
         "1"
        ],
        [
         "14",
         "../web_recordings/Dyspnea/audio/Dyspnea_inhale_9.wav",
         "inhale",
         "щссффсшлсз",
         "0",
         "1"
        ],
        [
         "15",
         "../web_recordings/Dyspnea/audio/Dyspnea_inhale_8.wav",
         "inhale",
         "сцфафлзнш",
         "0",
         "1"
        ],
        [
         "16",
         "../web_recordings/Dyspnea/audio/Dyspnea_exhale_9.wav",
         "exhale",
         "тзшщзллзшз",
         "0",
         "1"
        ],
        [
         "17",
         "../web_recordings/Dyspnea/audio/Dyspnea_exhale_8.wav",
         "exhale",
         "щчфтзсззфз",
         "0",
         "0"
        ],
        [
         "18",
         "../web_recordings/Dyspnea/audio/Dyspnea_inhale_10.wav",
         "inhale",
         "шщмшшзтфщ",
         "1",
         "1"
        ],
        [
         "19",
         "../web_recordings/Dyspnea/audio/Dyspnea_exhale_10.wav",
         "exhale",
         "сфзлсфзсзсщ",
         "1",
         "0"
        ],
        [
         "20",
         "../web_recordings/Running/audio/Running_inhale_8.wav",
         "inhale",
         "зфзффшсмт",
         "1",
         "1"
        ],
        [
         "21",
         "../web_recordings/Running/audio/Running_inhale_9.wav",
         "inhale",
         "сзфтзс",
         "0",
         "1"
        ],
        [
         "22",
         "../web_recordings/Running/audio/Running_exhale_8.wav",
         "exhale",
         "тшшзсшзза",
         "1",
         "1"
        ],
        [
         "23",
         "../web_recordings/Running/audio/Running_exhale_9.wav",
         "exhale",
         "зрташшщз",
         "0",
         "1"
        ],
        [
         "24",
         "../web_recordings/Running/audio/Running_exhale_4.wav",
         "exhale",
         "жттллззт",
         "0",
         "1"
        ],
        [
         "25",
         "../web_recordings/Running/audio/Running_exhale_5.wav",
         "exhale",
         "чстзфщ",
         "1",
         "1"
        ],
        [
         "26",
         "../web_recordings/Running/audio/Running_exhale_7.wav",
         "exhale",
         "фттзтфстз",
         "1",
         "1"
        ],
        [
         "27",
         "../web_recordings/Running/audio/Running_exhale_6.wav",
         "exhale",
         "зсстфзз",
         "1",
         "1"
        ],
        [
         "28",
         "../web_recordings/Running/audio/Running_exhale_2.wav",
         "exhale",
         "зссфтштш",
         "0",
         "1"
        ],
        [
         "29",
         "../web_recordings/Running/audio/Running_exhale_3.wav",
         "exhale",
         "сащчч",
         "1",
         "1"
        ],
        [
         "30",
         "../web_recordings/Running/audio/Running_exhale_10.wav",
         "exhale",
         "ззчзфф",
         "1",
         "1"
        ],
        [
         "31",
         "../web_recordings/Running/audio/Running_exhale_1.wav",
         "exhale",
         "фмффзсфс",
         "0",
         "1"
        ],
        [
         "32",
         "../web_recordings/Running/audio/Running_inhale_10.wav",
         "inhale",
         "ззхзщшшфз",
         "1",
         "1"
        ],
        [
         "33",
         "../web_recordings/Running/audio/Running_inhale_1.wav",
         "inhale",
         "гффсцффщш",
         "1",
         "1"
        ],
        [
         "34",
         "../web_recordings/Running/audio/Running_inhale_2.wav",
         "inhale",
         "лщллчс",
         "1",
         "1"
        ],
        [
         "35",
         "../web_recordings/Running/audio/Running_inhale_3.wav",
         "inhale",
         "щтфзсз",
         "1",
         "0"
        ],
        [
         "36",
         "../web_recordings/Running/audio/Running_inhale_7.wav",
         "inhale",
         "шшлсфсс",
         "0",
         "1"
        ],
        [
         "37",
         "../web_recordings/Running/audio/Running_inhale_6.wav",
         "inhale",
         "шамллзфз",
         "0",
         "1"
        ],
        [
         "38",
         "../web_recordings/Running/audio/Running_inhale_4.wav",
         "inhale",
         "ззтрбшфс",
         "0",
         "1"
        ],
        [
         "39",
         "../web_recordings/Running/audio/Running_inhale_5.wav",
         "inhale",
         "чсстзт",
         "1",
         "1"
        ],
        [
         "40",
         "../web_recordings/Sitting/audio/Sitting_inhale_2.wav",
         "inhale",
         "кзшфлтфзфчц",
         "1",
         "1"
        ],
        [
         "41",
         "../web_recordings/Sitting/audio/Sitting_inhale_3.wav",
         "inhale",
         "фщсчшстзззтщзс",
         "1",
         "0"
        ],
        [
         "42",
         "../web_recordings/Sitting/audio/Sitting_inhale_1.wav",
         "inhale",
         "зщчзшфтзрсшсщц",
         "0",
         "0"
        ],
        [
         "43",
         "../web_recordings/Sitting/audio/Sitting_inhale_4.wav",
         "inhale",
         "щщщщффсщлзлсзс",
         "1",
         "1"
        ],
        [
         "44",
         "../web_recordings/Sitting/audio/Sitting_inhale_5.wav",
         "inhale",
         "сшсщззсзазтщс",
         "0",
         "0"
        ],
        [
         "45",
         "../web_recordings/Sitting/audio/Sitting_inhale_7.wav",
         "inhale",
         "гччфщзщлзлтщ",
         "1",
         "1"
        ],
        [
         "46",
         "../web_recordings/Sitting/audio/Sitting_inhale_6.wav",
         "inhale",
         "фщфлхлрмзщрцш",
         "1",
         "1"
        ],
        [
         "47",
         "../web_recordings/Sitting/audio/Sitting_exhale_7.wav",
         "exhale",
         "щщфзтшффшзщшщз",
         "1",
         "1"
        ],
        [
         "48",
         "../web_recordings/Sitting/audio/Sitting_exhale_6.wav",
         "exhale",
         "ччсззщлщтзтсзсс",
         "1",
         "1"
        ],
        [
         "49",
         "../web_recordings/Sitting/audio/Sitting_exhale_4.wav",
         "exhale",
         "фггллрбшсшлззфщ",
         "0",
         "1"
        ]
       ],
       "shape": {
        "columns": 5,
        "rows": 120
       }
      },
      "text/html": [
       "<div>\n",
       "<style scoped>\n",
       "    .dataframe tbody tr th:only-of-type {\n",
       "        vertical-align: middle;\n",
       "    }\n",
       "\n",
       "    .dataframe tbody tr th {\n",
       "        vertical-align: top;\n",
       "    }\n",
       "\n",
       "    .dataframe thead th {\n",
       "        text-align: right;\n",
       "    }\n",
       "</style>\n",
       "<table border=\"1\" class=\"dataframe\">\n",
       "  <thead>\n",
       "    <tr style=\"text-align: right;\">\n",
       "      <th></th>\n",
       "      <th>file_name</th>\n",
       "      <th>breath_part</th>\n",
       "      <th>transcript</th>\n",
       "      <th>cluster_hash</th>\n",
       "      <th>cluster</th>\n",
       "    </tr>\n",
       "  </thead>\n",
       "  <tbody>\n",
       "    <tr>\n",
       "      <th>0</th>\n",
       "      <td>../web_recordings/Dyspnea/audio/Dyspnea_exhale...</td>\n",
       "      <td>exhale</td>\n",
       "      <td>щглшлсмчфщщ</td>\n",
       "      <td>0</td>\n",
       "      <td>1</td>\n",
       "    </tr>\n",
       "    <tr>\n",
       "      <th>1</th>\n",
       "      <td>../web_recordings/Dyspnea/audio/Dyspnea_exhale...</td>\n",
       "      <td>exhale</td>\n",
       "      <td>щтссшщзчффк</td>\n",
       "      <td>1</td>\n",
       "      <td>1</td>\n",
       "    </tr>\n",
       "    <tr>\n",
       "      <th>2</th>\n",
       "      <td>../web_recordings/Dyspnea/audio/Dyspnea_exhale...</td>\n",
       "      <td>exhale</td>\n",
       "      <td>зфлфщсзфсзшс</td>\n",
       "      <td>0</td>\n",
       "      <td>1</td>\n",
       "    </tr>\n",
       "    <tr>\n",
       "      <th>3</th>\n",
       "      <td>../web_recordings/Dyspnea/audio/Dyspnea_exhale...</td>\n",
       "      <td>exhale</td>\n",
       "      <td>чгщфшзфщссзч</td>\n",
       "      <td>1</td>\n",
       "      <td>1</td>\n",
       "    </tr>\n",
       "    <tr>\n",
       "      <th>4</th>\n",
       "      <td>../web_recordings/Dyspnea/audio/Dyspnea_exhale...</td>\n",
       "      <td>exhale</td>\n",
       "      <td>ччгбсцфзлззч</td>\n",
       "      <td>0</td>\n",
       "      <td>1</td>\n",
       "    </tr>\n",
       "    <tr>\n",
       "      <th>...</th>\n",
       "      <td>...</td>\n",
       "      <td>...</td>\n",
       "      <td>...</td>\n",
       "      <td>...</td>\n",
       "      <td>...</td>\n",
       "    </tr>\n",
       "    <tr>\n",
       "      <th>115</th>\n",
       "      <td>../web_recordings/Walking/audio/Walking_exhale...</td>\n",
       "      <td>exhale</td>\n",
       "      <td>щзлшшлфшсзфшлцз</td>\n",
       "      <td>1</td>\n",
       "      <td>1</td>\n",
       "    </tr>\n",
       "    <tr>\n",
       "      <th>116</th>\n",
       "      <td>../web_recordings/Walking/audio/Walking_inhale...</td>\n",
       "      <td>inhale</td>\n",
       "      <td>зщсшфтффззлщссфщщ</td>\n",
       "      <td>0</td>\n",
       "      <td>1</td>\n",
       "    </tr>\n",
       "    <tr>\n",
       "      <th>117</th>\n",
       "      <td>../web_recordings/Walking/audio/Walking_inhale...</td>\n",
       "      <td>inhale</td>\n",
       "      <td>зчзтнлтщфрчсщ</td>\n",
       "      <td>0</td>\n",
       "      <td>1</td>\n",
       "    </tr>\n",
       "    <tr>\n",
       "      <th>118</th>\n",
       "      <td>../web_recordings/Walking/audio/Walking_exhale...</td>\n",
       "      <td>exhale</td>\n",
       "      <td>фшщшщлшзбфтсфсшч</td>\n",
       "      <td>0</td>\n",
       "      <td>1</td>\n",
       "    </tr>\n",
       "    <tr>\n",
       "      <th>119</th>\n",
       "      <td>../web_recordings/Walking/audio/Walking_exhale...</td>\n",
       "      <td>exhale</td>\n",
       "      <td>мтсттллфтффшлкхццс</td>\n",
       "      <td>0</td>\n",
       "      <td>1</td>\n",
       "    </tr>\n",
       "  </tbody>\n",
       "</table>\n",
       "<p>120 rows × 5 columns</p>\n",
       "</div>"
      ],
      "text/plain": [
       "                                             file_name breath_part  \\\n",
       "0    ../web_recordings/Dyspnea/audio/Dyspnea_exhale...      exhale   \n",
       "1    ../web_recordings/Dyspnea/audio/Dyspnea_exhale...      exhale   \n",
       "2    ../web_recordings/Dyspnea/audio/Dyspnea_exhale...      exhale   \n",
       "3    ../web_recordings/Dyspnea/audio/Dyspnea_exhale...      exhale   \n",
       "4    ../web_recordings/Dyspnea/audio/Dyspnea_exhale...      exhale   \n",
       "..                                                 ...         ...   \n",
       "115  ../web_recordings/Walking/audio/Walking_exhale...      exhale   \n",
       "116  ../web_recordings/Walking/audio/Walking_inhale...      inhale   \n",
       "117  ../web_recordings/Walking/audio/Walking_inhale...      inhale   \n",
       "118  ../web_recordings/Walking/audio/Walking_exhale...      exhale   \n",
       "119  ../web_recordings/Walking/audio/Walking_exhale...      exhale   \n",
       "\n",
       "             transcript  cluster_hash  cluster  \n",
       "0           щглшлсмчфщщ             0        1  \n",
       "1           щтссшщзчффк             1        1  \n",
       "2          зфлфщсзфсзшс             0        1  \n",
       "3          чгщфшзфщссзч             1        1  \n",
       "4          ччгбсцфзлззч             0        1  \n",
       "..                  ...           ...      ...  \n",
       "115     щзлшшлфшсзфшлцз             1        1  \n",
       "116   зщсшфтффззлщссфщщ             0        1  \n",
       "117       зчзтнлтщфрчсщ             0        1  \n",
       "118    фшщшщлшзбфтсфсшч             0        1  \n",
       "119  мтсттллфтффшлкхццс             0        1  \n",
       "\n",
       "[120 rows x 5 columns]"
      ]
     },
     "execution_count": 25,
     "metadata": {},
     "output_type": "execute_result"
    }
   ],
   "source": [
    "from sklearn.cluster import MiniBatchKMeans\n",
    "\n",
    "hash_vectorizer = HashingVectorizer(analyzer='char_wb', ngram_range=(3, 5), n_features=50)\n",
    "hashed_features = hash_vectorizer.fit_transform(df['transcript'])\n",
    "\n",
    "# combined_features_hash = hstack([hashed_features]) # \n",
    "\n",
    "kmeans_hash = MiniBatchKMeans(n_clusters=2, random_state=42)\n",
    "clusters_hash = kmeans_hash.fit_predict(hashed_features)\n",
    "df['cluster_hash'] = clusters_hash\n",
    "\n",
    "df"
   ]
  },
  {
   "cell_type": "code",
   "execution_count": 17,
   "metadata": {},
   "outputs": [],
   "source": [
    "df[['breath_part', 'cluster', 'cluster_hash']].to_csv(\"df_clusterize.csv\")"
   ]
  },
  {
   "cell_type": "code",
   "execution_count": 26,
   "metadata": {},
   "outputs": [
    {
     "data": {
      "text/plain": [
       "['model_transcript_fingerprint.pkl']"
      ]
     },
     "execution_count": 26,
     "metadata": {},
     "output_type": "execute_result"
    }
   ],
   "source": [
    "import joblib\n",
    "\n",
    "joblib.dump(kmeans_hash, \"model_transcript_fingerprint.pkl\")"
   ]
  },
  {
   "cell_type": "code",
   "execution_count": null,
   "metadata": {},
   "outputs": [],
   "source": []
  }
 ],
 "metadata": {
  "kernelspec": {
   "display_name": ".venv",
   "language": "python",
   "name": "python3"
  },
  "language_info": {
   "codemirror_mode": {
    "name": "ipython",
    "version": 3
   },
   "file_extension": ".py",
   "mimetype": "text/x-python",
   "name": "python",
   "nbconvert_exporter": "python",
   "pygments_lexer": "ipython3",
   "version": "3.11.5"
  }
 },
 "nbformat": 4,
 "nbformat_minor": 2
}
